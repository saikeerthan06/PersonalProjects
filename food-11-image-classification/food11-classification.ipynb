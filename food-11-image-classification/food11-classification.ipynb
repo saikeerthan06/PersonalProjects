{
 "cells": [
  {
   "cell_type": "markdown",
   "id": "f6f148fc",
   "metadata": {},
   "source": [
    "# Food 11 Image Classification Notebook\n",
    "\n",
    "This notebook will be used to design & train 4 different powerful image classifications model to detect different types of Image Classification Models. \n",
    "\n",
    "The four different models which will be trained are: \n",
    "1. ResNet - Residual Connections allow for deeper network training without vanishing gradients. \n",
    "2. EfficientNet - Scaled width, depth and resolution in a balanced way\n",
    "3. DenseNet - Dense connections encourage feature reuse\n",
    "4. MobileNetV3 Small - Benefits from color/texture cues"
   ]
  },
  {
   "cell_type": "markdown",
   "id": "7a471293",
   "metadata": {},
   "source": []
  }
 ],
 "metadata": {
  "language_info": {
   "name": "python"
  }
 },
 "nbformat": 4,
 "nbformat_minor": 5
}
